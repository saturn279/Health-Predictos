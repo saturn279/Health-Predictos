{
 "cells": [
  {
   "cell_type": "code",
   "execution_count": 24,
   "id": "03f62718-afc4-451c-8adf-97736e793d75",
   "metadata": {},
   "outputs": [
    {
     "name": "stdout",
     "output_type": "stream",
     "text": [
      "Preparing files to send to master... 153.5KB and 15 files\n",
      "Created experiment 239\n"
     ]
    }
   ],
   "source": [
    "!det experiment create const.yaml ."
   ]
  },
  {
   "cell_type": "code",
   "execution_count": 19,
   "id": "6b0ae926-be27-4dee-adc8-afca41b6c34e",
   "metadata": {},
   "outputs": [],
   "source": [
    "import pandas as pd\n",
    "df = pd.read_csv('diabetes.csv')"
   ]
  },
  {
   "cell_type": "code",
   "execution_count": 23,
   "id": "28e4713c-0625-4131-8a90-dc10327136d3",
   "metadata": {},
   "outputs": [
    {
     "data": {
      "text/plain": [
       "array([[  6.   , 148.   ,  72.   , ...,   0.627,  50.   ,   1.   ],\n",
       "       [  1.   ,  85.   ,  66.   , ...,   0.351,  31.   ,   0.   ],\n",
       "       [  8.   , 183.   ,  64.   , ...,   0.672,  32.   ,   1.   ],\n",
       "       ...,\n",
       "       [  5.   , 121.   ,  72.   , ...,   0.245,  30.   ,   0.   ],\n",
       "       [  1.   , 126.   ,  60.   , ...,   0.349,  47.   ,   1.   ],\n",
       "       [  1.   ,  93.   ,  70.   , ...,   0.315,  23.   ,   0.   ]])"
      ]
     },
     "execution_count": 23,
     "metadata": {},
     "output_type": "execute_result"
    }
   ],
   "source": [
    "df.to_numpy()"
   ]
  },
  {
   "cell_type": "code",
   "execution_count": 2,
   "id": "c8574dba-3358-4d3e-be1b-646cd0ab926b",
   "metadata": {},
   "outputs": [
    {
     "ename": "NotFoundException",
     "evalue": "{\"error\":{\"code\":5,\"reason\":\"NotFound\",\"error\":\"experiment not found: 210\"}}\n",
     "output_type": "error",
     "traceback": [
      "\u001b[0;31m---------------------------------------------------------------------------\u001b[0m",
      "\u001b[0;31mNotFoundException\u001b[0m                         Traceback (most recent call last)",
      "Cell \u001b[0;32mIn [2], line 4\u001b[0m\n\u001b[1;32m      2\u001b[0m \u001b[38;5;28;01mimport\u001b[39;00m \u001b[38;5;21;01mwarnings\u001b[39;00m\n\u001b[1;32m      3\u001b[0m warnings\u001b[38;5;241m.\u001b[39mfilterwarnings(\u001b[38;5;124m\"\u001b[39m\u001b[38;5;124mignore\u001b[39m\u001b[38;5;124m\"\u001b[39m)\n\u001b[0;32m----> 4\u001b[0m checkpoint \u001b[38;5;241m=\u001b[39m \u001b[43mDetermined\u001b[49m\u001b[43m(\u001b[49m\u001b[43m)\u001b[49m\u001b[38;5;241;43m.\u001b[39;49m\u001b[43mget_experiment\u001b[49m\u001b[43m(\u001b[49m\u001b[38;5;241;43m210\u001b[39;49m\u001b[43m)\u001b[49m\u001b[38;5;241;43m.\u001b[39;49m\u001b[43mtop_checkpoint\u001b[49m\u001b[43m(\u001b[49m\u001b[43m)\u001b[49m\n\u001b[1;32m      5\u001b[0m model \u001b[38;5;241m=\u001b[39m checkpoint\u001b[38;5;241m.\u001b[39mload()\u001b[38;5;241m.\u001b[39mmodel\n",
      "File \u001b[0;32m/run/determined/pythonuserbase/lib/python3.8/site-packages/determined/common/experimental/experiment.py:174\u001b[0m, in \u001b[0;36mExperimentReference.top_checkpoint\u001b[0;34m(self, sort_by, smaller_is_better)\u001b[0m\n\u001b[1;32m    154\u001b[0m \u001b[38;5;28;01mdef\u001b[39;00m \u001b[38;5;21mtop_checkpoint\u001b[39m(\n\u001b[1;32m    155\u001b[0m     \u001b[38;5;28mself\u001b[39m,\n\u001b[1;32m    156\u001b[0m     sort_by: Optional[\u001b[38;5;28mstr\u001b[39m] \u001b[38;5;241m=\u001b[39m \u001b[38;5;28;01mNone\u001b[39;00m,\n\u001b[1;32m    157\u001b[0m     smaller_is_better: Optional[\u001b[38;5;28mbool\u001b[39m] \u001b[38;5;241m=\u001b[39m \u001b[38;5;28;01mNone\u001b[39;00m,\n\u001b[1;32m    158\u001b[0m ) \u001b[38;5;241m-\u001b[39m\u001b[38;5;241m>\u001b[39m checkpoint\u001b[38;5;241m.\u001b[39mCheckpoint:\n\u001b[1;32m    159\u001b[0m     \u001b[38;5;124;03m\"\"\"\u001b[39;00m\n\u001b[1;32m    160\u001b[0m \u001b[38;5;124;03m    Return the :class:`~determined.experimental.Checkpoint` for this experiment that\u001b[39;00m\n\u001b[1;32m    161\u001b[0m \u001b[38;5;124;03m    has the best validation metric, as defined by the ``sort_by`` and ``smaller_is_better``\u001b[39;00m\n\u001b[0;32m   (...)\u001b[0m\n\u001b[1;32m    172\u001b[0m \u001b[38;5;124;03m            from the experiment's configuration is used.\u001b[39;00m\n\u001b[1;32m    173\u001b[0m \u001b[38;5;124;03m    \"\"\"\u001b[39;00m\n\u001b[0;32m--> 174\u001b[0m     checkpoints \u001b[38;5;241m=\u001b[39m \u001b[38;5;28;43mself\u001b[39;49m\u001b[38;5;241;43m.\u001b[39;49m\u001b[43mtop_n_checkpoints\u001b[49m\u001b[43m(\u001b[49m\n\u001b[1;32m    175\u001b[0m \u001b[43m        \u001b[49m\u001b[38;5;241;43m1\u001b[39;49m\u001b[43m,\u001b[49m\u001b[43m \u001b[49m\u001b[43msort_by\u001b[49m\u001b[38;5;241;43m=\u001b[39;49m\u001b[43msort_by\u001b[49m\u001b[43m,\u001b[49m\u001b[43m \u001b[49m\u001b[43msmaller_is_better\u001b[49m\u001b[38;5;241;43m=\u001b[39;49m\u001b[43msmaller_is_better\u001b[49m\n\u001b[1;32m    176\u001b[0m \u001b[43m    \u001b[49m\u001b[43m)\u001b[49m\n\u001b[1;32m    178\u001b[0m     \u001b[38;5;28;01mif\u001b[39;00m \u001b[38;5;129;01mnot\u001b[39;00m checkpoints:\n\u001b[1;32m    179\u001b[0m         \u001b[38;5;28;01mraise\u001b[39;00m \u001b[38;5;167;01mAssertionError\u001b[39;00m(\u001b[38;5;124m\"\u001b[39m\u001b[38;5;124mNo checkpoints found for experiment \u001b[39m\u001b[38;5;132;01m{}\u001b[39;00m\u001b[38;5;124m\"\u001b[39m\u001b[38;5;241m.\u001b[39mformat(\u001b[38;5;28mself\u001b[39m\u001b[38;5;241m.\u001b[39mid))\n",
      "File \u001b[0;32m/run/determined/pythonuserbase/lib/python3.8/site-packages/determined/common/experimental/experiment.py:220\u001b[0m, in \u001b[0;36mExperimentReference.top_n_checkpoints\u001b[0;34m(self, limit, sort_by, smaller_is_better)\u001b[0m\n\u001b[1;32m    211\u001b[0m     \u001b[38;5;28;01mreturn\u001b[39;00m bindings\u001b[38;5;241m.\u001b[39mget_GetExperimentCheckpoints(\n\u001b[1;32m    212\u001b[0m         \u001b[38;5;28mself\u001b[39m\u001b[38;5;241m.\u001b[39m_session,\n\u001b[1;32m    213\u001b[0m         \u001b[38;5;28mid\u001b[39m\u001b[38;5;241m=\u001b[39m\u001b[38;5;28mself\u001b[39m\u001b[38;5;241m.\u001b[39m_id,\n\u001b[1;32m    214\u001b[0m         offset\u001b[38;5;241m=\u001b[39moffset,\n\u001b[1;32m    215\u001b[0m         states\u001b[38;5;241m=\u001b[39m[bindings\u001b[38;5;241m.\u001b[39mdeterminedcheckpointv1State\u001b[38;5;241m.\u001b[39mSTATE_COMPLETED],\n\u001b[1;32m    216\u001b[0m     )\n\u001b[1;32m    218\u001b[0m resps \u001b[38;5;241m=\u001b[39m api\u001b[38;5;241m.\u001b[39mread_paginated(get_with_offset)\n\u001b[0;32m--> 220\u001b[0m checkpoints \u001b[38;5;241m=\u001b[39m [\n\u001b[1;32m    221\u001b[0m     checkpoint\u001b[38;5;241m.\u001b[39mCheckpoint\u001b[38;5;241m.\u001b[39m_from_bindings(c, \u001b[38;5;28mself\u001b[39m\u001b[38;5;241m.\u001b[39m_session)\n\u001b[1;32m    222\u001b[0m     \u001b[38;5;28;01mfor\u001b[39;00m r \u001b[38;5;129;01min\u001b[39;00m resps\n\u001b[1;32m    223\u001b[0m     \u001b[38;5;28;01mfor\u001b[39;00m c \u001b[38;5;129;01min\u001b[39;00m r\u001b[38;5;241m.\u001b[39mcheckpoints\n\u001b[1;32m    224\u001b[0m ]\n\u001b[1;32m    226\u001b[0m \u001b[38;5;28;01mif\u001b[39;00m \u001b[38;5;129;01mnot\u001b[39;00m checkpoints:\n\u001b[1;32m    227\u001b[0m     \u001b[38;5;28;01mraise\u001b[39;00m \u001b[38;5;167;01mAssertionError\u001b[39;00m(\u001b[38;5;124m\"\u001b[39m\u001b[38;5;124mNo checkpoint found for experiment \u001b[39m\u001b[38;5;132;01m{}\u001b[39;00m\u001b[38;5;124m\"\u001b[39m\u001b[38;5;241m.\u001b[39mformat(\u001b[38;5;28mself\u001b[39m\u001b[38;5;241m.\u001b[39mid))\n",
      "File \u001b[0;32m/run/determined/pythonuserbase/lib/python3.8/site-packages/determined/common/experimental/experiment.py:220\u001b[0m, in \u001b[0;36m<listcomp>\u001b[0;34m(.0)\u001b[0m\n\u001b[1;32m    211\u001b[0m     \u001b[38;5;28;01mreturn\u001b[39;00m bindings\u001b[38;5;241m.\u001b[39mget_GetExperimentCheckpoints(\n\u001b[1;32m    212\u001b[0m         \u001b[38;5;28mself\u001b[39m\u001b[38;5;241m.\u001b[39m_session,\n\u001b[1;32m    213\u001b[0m         \u001b[38;5;28mid\u001b[39m\u001b[38;5;241m=\u001b[39m\u001b[38;5;28mself\u001b[39m\u001b[38;5;241m.\u001b[39m_id,\n\u001b[1;32m    214\u001b[0m         offset\u001b[38;5;241m=\u001b[39moffset,\n\u001b[1;32m    215\u001b[0m         states\u001b[38;5;241m=\u001b[39m[bindings\u001b[38;5;241m.\u001b[39mdeterminedcheckpointv1State\u001b[38;5;241m.\u001b[39mSTATE_COMPLETED],\n\u001b[1;32m    216\u001b[0m     )\n\u001b[1;32m    218\u001b[0m resps \u001b[38;5;241m=\u001b[39m api\u001b[38;5;241m.\u001b[39mread_paginated(get_with_offset)\n\u001b[0;32m--> 220\u001b[0m checkpoints \u001b[38;5;241m=\u001b[39m [\n\u001b[1;32m    221\u001b[0m     checkpoint\u001b[38;5;241m.\u001b[39mCheckpoint\u001b[38;5;241m.\u001b[39m_from_bindings(c, \u001b[38;5;28mself\u001b[39m\u001b[38;5;241m.\u001b[39m_session)\n\u001b[1;32m    222\u001b[0m     \u001b[38;5;28;01mfor\u001b[39;00m r \u001b[38;5;129;01min\u001b[39;00m resps\n\u001b[1;32m    223\u001b[0m     \u001b[38;5;28;01mfor\u001b[39;00m c \u001b[38;5;129;01min\u001b[39;00m r\u001b[38;5;241m.\u001b[39mcheckpoints\n\u001b[1;32m    224\u001b[0m ]\n\u001b[1;32m    226\u001b[0m \u001b[38;5;28;01mif\u001b[39;00m \u001b[38;5;129;01mnot\u001b[39;00m checkpoints:\n\u001b[1;32m    227\u001b[0m     \u001b[38;5;28;01mraise\u001b[39;00m \u001b[38;5;167;01mAssertionError\u001b[39;00m(\u001b[38;5;124m\"\u001b[39m\u001b[38;5;124mNo checkpoint found for experiment \u001b[39m\u001b[38;5;132;01m{}\u001b[39;00m\u001b[38;5;124m\"\u001b[39m\u001b[38;5;241m.\u001b[39mformat(\u001b[38;5;28mself\u001b[39m\u001b[38;5;241m.\u001b[39mid))\n",
      "File \u001b[0;32m/run/determined/pythonuserbase/lib/python3.8/site-packages/determined/common/api/_util.py:23\u001b[0m, in \u001b[0;36mread_paginated\u001b[0;34m(get_with_offset, offset, pages)\u001b[0m\n\u001b[1;32m     17\u001b[0m \u001b[38;5;28;01mdef\u001b[39;00m \u001b[38;5;21mread_paginated\u001b[39m(\n\u001b[1;32m     18\u001b[0m     get_with_offset: Callable[[\u001b[38;5;28mint\u001b[39m], T],\n\u001b[1;32m     19\u001b[0m     offset: \u001b[38;5;28mint\u001b[39m \u001b[38;5;241m=\u001b[39m \u001b[38;5;241m0\u001b[39m,\n\u001b[1;32m     20\u001b[0m     pages: PageOpts \u001b[38;5;241m=\u001b[39m PageOpts\u001b[38;5;241m.\u001b[39mall,\n\u001b[1;32m     21\u001b[0m ) \u001b[38;5;241m-\u001b[39m\u001b[38;5;241m>\u001b[39m Iterator[T]:\n\u001b[1;32m     22\u001b[0m     \u001b[38;5;28;01mwhile\u001b[39;00m \u001b[38;5;28;01mTrue\u001b[39;00m:\n\u001b[0;32m---> 23\u001b[0m         resp \u001b[38;5;241m=\u001b[39m \u001b[43mget_with_offset\u001b[49m\u001b[43m(\u001b[49m\u001b[43moffset\u001b[49m\u001b[43m)\u001b[49m\n\u001b[1;32m     24\u001b[0m         pagination \u001b[38;5;241m=\u001b[39m resp\u001b[38;5;241m.\u001b[39mpagination\n\u001b[1;32m     25\u001b[0m         \u001b[38;5;28;01massert\u001b[39;00m pagination \u001b[38;5;129;01mis\u001b[39;00m \u001b[38;5;129;01mnot\u001b[39;00m \u001b[38;5;28;01mNone\u001b[39;00m\n",
      "File \u001b[0;32m/run/determined/pythonuserbase/lib/python3.8/site-packages/determined/common/experimental/experiment.py:211\u001b[0m, in \u001b[0;36mExperimentReference.top_n_checkpoints.<locals>.get_with_offset\u001b[0;34m(offset)\u001b[0m\n\u001b[1;32m    210\u001b[0m \u001b[38;5;28;01mdef\u001b[39;00m \u001b[38;5;21mget_with_offset\u001b[39m(offset: \u001b[38;5;28mint\u001b[39m) \u001b[38;5;241m-\u001b[39m\u001b[38;5;241m>\u001b[39m bindings\u001b[38;5;241m.\u001b[39mv1GetExperimentCheckpointsResponse:\n\u001b[0;32m--> 211\u001b[0m     \u001b[38;5;28;01mreturn\u001b[39;00m \u001b[43mbindings\u001b[49m\u001b[38;5;241;43m.\u001b[39;49m\u001b[43mget_GetExperimentCheckpoints\u001b[49m\u001b[43m(\u001b[49m\n\u001b[1;32m    212\u001b[0m \u001b[43m        \u001b[49m\u001b[38;5;28;43mself\u001b[39;49m\u001b[38;5;241;43m.\u001b[39;49m\u001b[43m_session\u001b[49m\u001b[43m,\u001b[49m\n\u001b[1;32m    213\u001b[0m \u001b[43m        \u001b[49m\u001b[38;5;28;43mid\u001b[39;49m\u001b[38;5;241;43m=\u001b[39;49m\u001b[38;5;28;43mself\u001b[39;49m\u001b[38;5;241;43m.\u001b[39;49m\u001b[43m_id\u001b[49m\u001b[43m,\u001b[49m\n\u001b[1;32m    214\u001b[0m \u001b[43m        \u001b[49m\u001b[43moffset\u001b[49m\u001b[38;5;241;43m=\u001b[39;49m\u001b[43moffset\u001b[49m\u001b[43m,\u001b[49m\n\u001b[1;32m    215\u001b[0m \u001b[43m        \u001b[49m\u001b[43mstates\u001b[49m\u001b[38;5;241;43m=\u001b[39;49m\u001b[43m[\u001b[49m\u001b[43mbindings\u001b[49m\u001b[38;5;241;43m.\u001b[39;49m\u001b[43mdeterminedcheckpointv1State\u001b[49m\u001b[38;5;241;43m.\u001b[39;49m\u001b[43mSTATE_COMPLETED\u001b[49m\u001b[43m]\u001b[49m\u001b[43m,\u001b[49m\n\u001b[1;32m    216\u001b[0m \u001b[43m    \u001b[49m\u001b[43m)\u001b[49m\n",
      "File \u001b[0;32m/run/determined/pythonuserbase/lib/python3.8/site-packages/determined/common/api/bindings.py:9434\u001b[0m, in \u001b[0;36mget_GetExperimentCheckpoints\u001b[0;34m(session, id, limit, offset, orderBy, sortBy, states)\u001b[0m\n\u001b[1;32m   9417\u001b[0m \u001b[38;5;28;01mdef\u001b[39;00m \u001b[38;5;21mget_GetExperimentCheckpoints\u001b[39m(\n\u001b[1;32m   9418\u001b[0m     session: \u001b[38;5;124m\"\u001b[39m\u001b[38;5;124mapi.Session\u001b[39m\u001b[38;5;124m\"\u001b[39m,\n\u001b[1;32m   9419\u001b[0m     \u001b[38;5;241m*\u001b[39m,\n\u001b[0;32m   (...)\u001b[0m\n\u001b[1;32m   9425\u001b[0m     states: \u001b[38;5;124m\"\u001b[39m\u001b[38;5;124mtyping.Optional[typing.Sequence[determinedcheckpointv1State]]\u001b[39m\u001b[38;5;124m\"\u001b[39m \u001b[38;5;241m=\u001b[39m \u001b[38;5;28;01mNone\u001b[39;00m,\n\u001b[1;32m   9426\u001b[0m ) \u001b[38;5;241m-\u001b[39m\u001b[38;5;241m>\u001b[39m \u001b[38;5;124m\"\u001b[39m\u001b[38;5;124mv1GetExperimentCheckpointsResponse\u001b[39m\u001b[38;5;124m\"\u001b[39m:\n\u001b[1;32m   9427\u001b[0m     _params \u001b[38;5;241m=\u001b[39m {\n\u001b[1;32m   9428\u001b[0m         \u001b[38;5;124m\"\u001b[39m\u001b[38;5;124mlimit\u001b[39m\u001b[38;5;124m\"\u001b[39m: limit,\n\u001b[1;32m   9429\u001b[0m         \u001b[38;5;124m\"\u001b[39m\u001b[38;5;124moffset\u001b[39m\u001b[38;5;124m\"\u001b[39m: offset,\n\u001b[0;32m   (...)\u001b[0m\n\u001b[1;32m   9432\u001b[0m         \u001b[38;5;124m\"\u001b[39m\u001b[38;5;124mstates\u001b[39m\u001b[38;5;124m\"\u001b[39m: [x\u001b[38;5;241m.\u001b[39mvalue \u001b[38;5;28;01mfor\u001b[39;00m x \u001b[38;5;129;01min\u001b[39;00m states] \u001b[38;5;28;01mif\u001b[39;00m states \u001b[38;5;129;01mis\u001b[39;00m \u001b[38;5;129;01mnot\u001b[39;00m \u001b[38;5;28;01mNone\u001b[39;00m \u001b[38;5;28;01melse\u001b[39;00m \u001b[38;5;28;01mNone\u001b[39;00m,\n\u001b[1;32m   9433\u001b[0m     }\n\u001b[0;32m-> 9434\u001b[0m     _resp \u001b[38;5;241m=\u001b[39m \u001b[43msession\u001b[49m\u001b[38;5;241;43m.\u001b[39;49m\u001b[43m_do_request\u001b[49m\u001b[43m(\u001b[49m\n\u001b[1;32m   9435\u001b[0m \u001b[43m        \u001b[49m\u001b[43mmethod\u001b[49m\u001b[38;5;241;43m=\u001b[39;49m\u001b[38;5;124;43m\"\u001b[39;49m\u001b[38;5;124;43mGET\u001b[39;49m\u001b[38;5;124;43m\"\u001b[39;49m\u001b[43m,\u001b[49m\n\u001b[1;32m   9436\u001b[0m \u001b[43m        \u001b[49m\u001b[43mpath\u001b[49m\u001b[38;5;241;43m=\u001b[39;49m\u001b[38;5;124;43mf\u001b[39;49m\u001b[38;5;124;43m\"\u001b[39;49m\u001b[38;5;124;43m/api/v1/experiments/\u001b[39;49m\u001b[38;5;132;43;01m{\u001b[39;49;00m\u001b[38;5;28;43mid\u001b[39;49m\u001b[38;5;132;43;01m}\u001b[39;49;00m\u001b[38;5;124;43m/checkpoints\u001b[39;49m\u001b[38;5;124;43m\"\u001b[39;49m\u001b[43m,\u001b[49m\n\u001b[1;32m   9437\u001b[0m \u001b[43m        \u001b[49m\u001b[43mparams\u001b[49m\u001b[38;5;241;43m=\u001b[39;49m\u001b[43m_params\u001b[49m\u001b[43m,\u001b[49m\n\u001b[1;32m   9438\u001b[0m \u001b[43m        \u001b[49m\u001b[43mjson\u001b[49m\u001b[38;5;241;43m=\u001b[39;49m\u001b[38;5;28;43;01mNone\u001b[39;49;00m\u001b[43m,\u001b[49m\n\u001b[1;32m   9439\u001b[0m \u001b[43m        \u001b[49m\u001b[43mdata\u001b[49m\u001b[38;5;241;43m=\u001b[39;49m\u001b[38;5;28;43;01mNone\u001b[39;49;00m\u001b[43m,\u001b[49m\n\u001b[1;32m   9440\u001b[0m \u001b[43m        \u001b[49m\u001b[43mheaders\u001b[49m\u001b[38;5;241;43m=\u001b[39;49m\u001b[38;5;28;43;01mNone\u001b[39;49;00m\u001b[43m,\u001b[49m\n\u001b[1;32m   9441\u001b[0m \u001b[43m        \u001b[49m\u001b[43mtimeout\u001b[49m\u001b[38;5;241;43m=\u001b[39;49m\u001b[38;5;28;43;01mNone\u001b[39;49;00m\u001b[43m,\u001b[49m\n\u001b[1;32m   9442\u001b[0m \u001b[43m        \u001b[49m\u001b[43mstream\u001b[49m\u001b[38;5;241;43m=\u001b[39;49m\u001b[38;5;28;43;01mFalse\u001b[39;49;00m\u001b[43m,\u001b[49m\n\u001b[1;32m   9443\u001b[0m \u001b[43m    \u001b[49m\u001b[43m)\u001b[49m\n\u001b[1;32m   9444\u001b[0m     \u001b[38;5;28;01mif\u001b[39;00m _resp\u001b[38;5;241m.\u001b[39mstatus_code \u001b[38;5;241m==\u001b[39m \u001b[38;5;241m200\u001b[39m:\n\u001b[1;32m   9445\u001b[0m         \u001b[38;5;28;01mreturn\u001b[39;00m v1GetExperimentCheckpointsResponse\u001b[38;5;241m.\u001b[39mfrom_json(_resp\u001b[38;5;241m.\u001b[39mjson())\n",
      "File \u001b[0;32m/run/determined/pythonuserbase/lib/python3.8/site-packages/determined/common/api/_session.py:36\u001b[0m, in \u001b[0;36mSession._do_request\u001b[0;34m(self, method, path, params, json, data, headers, timeout, stream)\u001b[0m\n\u001b[1;32m     25\u001b[0m \u001b[38;5;28;01mdef\u001b[39;00m \u001b[38;5;21m_do_request\u001b[39m(\n\u001b[1;32m     26\u001b[0m     \u001b[38;5;28mself\u001b[39m,\n\u001b[1;32m     27\u001b[0m     method: \u001b[38;5;28mstr\u001b[39m,\n\u001b[0;32m   (...)\u001b[0m\n\u001b[1;32m     34\u001b[0m     stream: \u001b[38;5;28mbool\u001b[39m,\n\u001b[1;32m     35\u001b[0m ) \u001b[38;5;241m-\u001b[39m\u001b[38;5;241m>\u001b[39m requests\u001b[38;5;241m.\u001b[39mResponse:\n\u001b[0;32m---> 36\u001b[0m     \u001b[38;5;28;01mreturn\u001b[39;00m \u001b[43mrequest\u001b[49m\u001b[38;5;241;43m.\u001b[39;49m\u001b[43mdo_request\u001b[49m\u001b[43m(\u001b[49m\n\u001b[1;32m     37\u001b[0m \u001b[43m        \u001b[49m\u001b[43mmethod\u001b[49m\u001b[43m,\u001b[49m\n\u001b[1;32m     38\u001b[0m \u001b[43m        \u001b[49m\u001b[38;5;28;43mself\u001b[39;49m\u001b[38;5;241;43m.\u001b[39;49m\u001b[43m_master\u001b[49m\u001b[43m,\u001b[49m\n\u001b[1;32m     39\u001b[0m \u001b[43m        \u001b[49m\u001b[43mpath\u001b[49m\u001b[43m,\u001b[49m\n\u001b[1;32m     40\u001b[0m \u001b[43m        \u001b[49m\u001b[43mparams\u001b[49m\u001b[38;5;241;43m=\u001b[39;49m\u001b[43mparams\u001b[49m\u001b[43m,\u001b[49m\n\u001b[1;32m     41\u001b[0m \u001b[43m        \u001b[49m\u001b[43mjson\u001b[49m\u001b[38;5;241;43m=\u001b[39;49m\u001b[43mjson\u001b[49m\u001b[43m,\u001b[49m\n\u001b[1;32m     42\u001b[0m \u001b[43m        \u001b[49m\u001b[43mdata\u001b[49m\u001b[38;5;241;43m=\u001b[39;49m\u001b[43mdata\u001b[49m\u001b[43m,\u001b[49m\n\u001b[1;32m     43\u001b[0m \u001b[43m        \u001b[49m\u001b[43mauth\u001b[49m\u001b[38;5;241;43m=\u001b[39;49m\u001b[38;5;28;43mself\u001b[39;49m\u001b[38;5;241;43m.\u001b[39;49m\u001b[43m_auth\u001b[49m\u001b[43m,\u001b[49m\n\u001b[1;32m     44\u001b[0m \u001b[43m        \u001b[49m\u001b[43mcert\u001b[49m\u001b[38;5;241;43m=\u001b[39;49m\u001b[38;5;28;43mself\u001b[39;49m\u001b[38;5;241;43m.\u001b[39;49m\u001b[43m_cert\u001b[49m\u001b[43m,\u001b[49m\n\u001b[1;32m     45\u001b[0m \u001b[43m        \u001b[49m\u001b[43mheaders\u001b[49m\u001b[38;5;241;43m=\u001b[39;49m\u001b[43mheaders\u001b[49m\u001b[43m,\u001b[49m\n\u001b[1;32m     46\u001b[0m \u001b[43m        \u001b[49m\u001b[43mtimeout\u001b[49m\u001b[38;5;241;43m=\u001b[39;49m\u001b[43mtimeout\u001b[49m\u001b[43m,\u001b[49m\n\u001b[1;32m     47\u001b[0m \u001b[43m        \u001b[49m\u001b[43mstream\u001b[49m\u001b[38;5;241;43m=\u001b[39;49m\u001b[43mstream\u001b[49m\u001b[43m,\u001b[49m\n\u001b[1;32m     48\u001b[0m \u001b[43m        \u001b[49m\u001b[43mmax_retries\u001b[49m\u001b[38;5;241;43m=\u001b[39;49m\u001b[38;5;28;43mself\u001b[39;49m\u001b[38;5;241;43m.\u001b[39;49m\u001b[43m_max_retries\u001b[49m\u001b[43m,\u001b[49m\n\u001b[1;32m     49\u001b[0m \u001b[43m    \u001b[49m\u001b[43m)\u001b[49m\n",
      "File \u001b[0;32m/run/determined/pythonuserbase/lib/python3.8/site-packages/determined/common/api/request.py:166\u001b[0m, in \u001b[0;36mdo_request\u001b[0;34m(method, host, path, params, json, data, headers, authenticated, auth, cert, stream, timeout, max_retries)\u001b[0m\n\u001b[1;32m    164\u001b[0m     \u001b[38;5;28;01mraise\u001b[39;00m errors\u001b[38;5;241m.\u001b[39mForbiddenException(username\u001b[38;5;241m=\u001b[39musername, message\u001b[38;5;241m=\u001b[39m_get_error_str(r))\n\u001b[1;32m    165\u001b[0m \u001b[38;5;28;01melif\u001b[39;00m r\u001b[38;5;241m.\u001b[39mstatus_code \u001b[38;5;241m==\u001b[39m \u001b[38;5;241m404\u001b[39m:\n\u001b[0;32m--> 166\u001b[0m     \u001b[38;5;28;01mraise\u001b[39;00m errors\u001b[38;5;241m.\u001b[39mNotFoundException(r)\n\u001b[1;32m    167\u001b[0m \u001b[38;5;28;01melif\u001b[39;00m r\u001b[38;5;241m.\u001b[39mstatus_code \u001b[38;5;241m>\u001b[39m\u001b[38;5;241m=\u001b[39m \u001b[38;5;241m300\u001b[39m:\n\u001b[1;32m    168\u001b[0m     \u001b[38;5;28;01mraise\u001b[39;00m errors\u001b[38;5;241m.\u001b[39mAPIException(r)\n",
      "\u001b[0;31mNotFoundException\u001b[0m: {\"error\":{\"code\":5,\"reason\":\"NotFound\",\"error\":\"experiment not found: 210\"}}\n"
     ]
    }
   ],
   "source": [
    "from determined.experimental import Determined\n",
    "import warnings\n",
    "warnings.filterwarnings(\"ignore\")\n",
    "checkpoint = Determined().get_experiment(210).top_checkpoint()\n",
    "model = checkpoint.load().model"
   ]
  },
  {
   "cell_type": "code",
   "execution_count": 76,
   "id": "0aee36dc-3943-46c8-86cf-382cba84906e",
   "metadata": {},
   "outputs": [],
   "source": [
    "from PIL import Image\n",
    "from torch.autograd import Variable\n",
    "import torchvision.transforms as transforms\n",
    "import torch\n",
    "import glob"
   ]
  },
  {
   "cell_type": "code",
   "execution_count": 123,
   "id": "2dda28b6-f067-475e-9e5f-1dff19ed8ddf",
   "metadata": {},
   "outputs": [],
   "source": [
    "transformer=transforms.Compose([\n",
    "    transforms.RandomResizedCrop(224),\n",
    "    transforms.RandomHorizontalFlip(),\n",
    "    transforms.ToTensor(),\n",
    "    transforms.Normalize(mean=[0.485, 0.456, 0.406],\n",
    "                                    std=[0.229, 0.224, 0.225])\n",
    "])"
   ]
  },
  {
   "cell_type": "code",
   "execution_count": 124,
   "id": "92d07e8f-853a-476d-8f20-9e364704f067",
   "metadata": {},
   "outputs": [],
   "source": [
    "def prediction(img_path,transformer):\n",
    "    image=Image.open(img_path)\n",
    "    image_tensor=transformer(image).float()    \n",
    "    image_tensor=image_tensor.unsqueeze_(0)\n",
    "    if torch.cuda.is_available():\n",
    "        image_tensor.cuda()\n",
    "    # input=Variable(image_tensor.cuda())\n",
    "    input=Variable(image_tensor)\n",
    "    # output = \"\"\n",
    "    # with torch.no_grad():\n",
    "    output = model(input)\n",
    "    # index = np.argmax(output.cuda())[0].cpu().numpy()\n",
    "    # index=output.data.numpy().argmax().cpu().numpy()\n",
    "    index = output.cpu().data.numpy().argmax()\n",
    "    classes = ['buildings', 'forest', 'glacier', 'mountain', 'sea','street']\n",
    "    pred=classes[index]   \n",
    "    return pred"
   ]
  },
  {
   "cell_type": "code",
   "execution_count": 125,
   "id": "9af0ec28-1c32-4192-9aa6-4c8361e1a6e2",
   "metadata": {},
   "outputs": [],
   "source": [
    "pred_path='/run/determined/workdir/demo/scene_detectionDemo/test'\n",
    "images_path=glob.glob(pred_path+'/*.jpg')"
   ]
  },
  {
   "cell_type": "code",
   "execution_count": 126,
   "id": "87a2d295-c8fd-44fd-a8ac-e558d8d4a08b",
   "metadata": {},
   "outputs": [
    {
     "data": {
      "text/plain": [
       "['/run/determined/workdir/demo/scene_detectionDemo/test/20216.jpg',\n",
       " '/run/determined/workdir/demo/scene_detectionDemo/test/20212.jpg']"
      ]
     },
     "execution_count": 126,
     "metadata": {},
     "output_type": "execute_result"
    }
   ],
   "source": [
    "images_path"
   ]
  },
  {
   "cell_type": "code",
   "execution_count": 127,
   "id": "3ccbad83-56da-4174-8399-7427237bc5f8",
   "metadata": {},
   "outputs": [],
   "source": [
    "pred_dict={}\n",
    "\n",
    "for i in images_path:\n",
    "    pred_dict[i[i.rfind('/')+1:]]=prediction(i,transformer)"
   ]
  },
  {
   "cell_type": "code",
   "execution_count": 128,
   "id": "9e3574bf-896c-449c-a291-11811dc877ff",
   "metadata": {},
   "outputs": [
    {
     "data": {
      "text/plain": [
       "{'20216.jpg': 'street', '20212.jpg': 'sea'}"
      ]
     },
     "execution_count": 128,
     "metadata": {},
     "output_type": "execute_result"
    }
   ],
   "source": [
    "pred_dict"
   ]
  },
  {
   "cell_type": "code",
   "execution_count": null,
   "id": "237c5d0f-e110-4a72-a992-83efe3fc242b",
   "metadata": {},
   "outputs": [],
   "source": []
  },
  {
   "cell_type": "code",
   "execution_count": null,
   "id": "10dfb5da-a0c9-4900-8ad5-d7fe2a153f05",
   "metadata": {},
   "outputs": [],
   "source": []
  }
 ],
 "metadata": {
  "kernelspec": {
   "display_name": "Python 3 (ipykernel)",
   "language": "python",
   "name": "python3"
  },
  "language_info": {
   "codemirror_mode": {
    "name": "ipython",
    "version": 3
   },
   "file_extension": ".py",
   "mimetype": "text/x-python",
   "name": "python",
   "nbconvert_exporter": "python",
   "pygments_lexer": "ipython3",
   "version": "3.8.13"
  }
 },
 "nbformat": 4,
 "nbformat_minor": 5
}
